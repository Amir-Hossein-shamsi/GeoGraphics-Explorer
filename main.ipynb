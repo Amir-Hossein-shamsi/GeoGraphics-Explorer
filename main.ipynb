{
 "cells": [
  {
   "cell_type": "markdown",
   "id": "f5c904e3",
   "metadata": {},
   "source": [
    "### Find out nearby Cites from your Custom City"
   ]
  },
  {
   "cell_type": "code",
   "execution_count": 10,
   "id": "c22a2ff8",
   "metadata": {},
   "outputs": [],
   "source": [
    "from ipyleaflet import Map, Marker, CircleMarker, basemaps, LayersControl, Popup\n",
    "from ipywidgets import HTML, Text, Button, VBox, IntSlider, Output\n",
    "from geopy.geocoders import Nominatim\n",
    "from geopy.distance import great_circle"
   ]
  },
  {
   "cell_type": "code",
   "execution_count": 13,
   "id": "f4121bcb",
   "metadata": {},
   "outputs": [],
   "source": [
    "\n",
    "big_cities = {\n",
    "    \"Tehran\": (35.6892, 51.3890),\n",
    "    \"Mashhad\": (36.2605, 59.6168),\n",
    "    \"Isfahan\": (32.6546, 51.6680),\n",
    "    \"Karaj\": (35.8327, 50.9916),\n",
    "    \"Shiraz\": (29.5918, 52.5837),\n",
    "    \"Tabriz\": (38.0962, 46.2738),\n",
    "    \"Qom\": (34.6416, 50.8746),\n",
    "    \"Ahvaz\": (31.3203, 48.6692),\n",
    "    \"Ardabil\":(38.2432,48.2976),\n",
    "    \"Kermanshah\": (34.3142, 47.0650),\n",
    "    \"Urmia\": (37.5527, 45.0760),\n",
    "    \"Rasht\": (37.2808, 49.5832),\n",
    "    \"Zahedan\": (29.4963, 60.8629),\n",
    "    \"Hamadan\": (34.7980, 48.5146),\n",
    "    \"Arak\": (34.0917, 49.6892),\n",
    "    \"Yazd\": (31.8974, 54.3569),\n",
    "    \"Kerman\": (30.2839, 57.0834),\n",
    "    \"Sanandaj\": (35.3149, 46.9988),\n",
    "    \"Bandar Abbas\": (27.1832, 56.2666),\n",
    "    \"Khorramabad\": (33.4878, 48.3558),\n",
    "    \"Abadan\": (30.3473, 48.2934),\n",
    "    \"Zanjan\": (36.6765, 48.4963),\n",
    "    \"Gorgan\": (36.8456, 54.4436),\n",
    "    \"Qazvin\": (36.2688, 50.0041),\n",
    "    \"Ilam\": (33.6374, 46.4227),\n",
    "    \"Bojnurd\": (37.4747, 57.3290),\n",
    "    \"Birjand\": (32.8654, 59.2211),\n",
    "    \"Semnan\": (35.5775, 53.3925),\n",
    "    \"Bushehr\": (28.9234, 50.8203),\n",
    "    \"Yasuj\": (30.6682, 51.5870),\n",
    "    \"Shahr-e Kord\": (32.3256, 50.8644)\n",
    "}"
   ]
  },
  {
   "cell_type": "code",
   "execution_count": 14,
   "id": "1ad164f8",
   "metadata": {},
   "outputs": [],
   "source": [
    "\n",
    "def geocode_city(city_name):\n",
    "    geolocator = Nominatim(user_agent=\"geo_analysis\")\n",
    "    location = geolocator.geocode(city_name)\n",
    "    if location is None:\n",
    "        return None\n",
    "    return (location.latitude, location.longitude)\n",
    "\n",
    "def calculate_distance(point1, point2):\n",
    "    return great_circle(point1, point2).kilometers\n",
    "\n",
    "def find_nearby_cities(city_coords, cities, radius_km=200):\n",
    "    return {\n",
    "        city: coords\n",
    "        for city, coords in cities.items()\n",
    "        if calculate_distance(city_coords, coords) <= radius_km\n",
    "    }\n",
    "\n",
    "def show_map(city_name, city_coords, nearby_cities):\n",
    "    print(f\"Map center: {city_coords}\")  \n",
    "    m = Map(center=city_coords, zoom=6, basemap=basemaps.OpenStreetMap.Mapnik)\n",
    "    marker = Marker(location=city_coords, title=city_name)\n",
    "    m.add_layer(marker)\n",
    "    for city, coords in nearby_cities.items():\n",
    "        cm = CircleMarker(location=coords, radius=7, color='blue', fill_color='blue', fill_opacity=0.6)\n",
    "        m.add_layer(cm)\n",
    "    m.add_control(LayersControl())\n",
    "    display(m)"
   ]
  },
  {
   "cell_type": "code",
   "execution_count": 15,
   "id": "2c37cd7e",
   "metadata": {},
   "outputs": [
    {
     "data": {
      "application/vnd.jupyter.widget-view+json": {
       "model_id": "dedb3ea91f0f4fc89094c7067e0d07cc",
       "version_major": 2,
       "version_minor": 0
      },
      "text/plain": [
       "VBox(children=(Text(value='', description='City:', placeholder='Enter city name'), IntSlider(value=200, descri…"
      ]
     },
     "metadata": {},
     "output_type": "display_data"
    }
   ],
   "source": [
    "# --- Interactive UI ---\n",
    "city_input = Text(description=\"City:\", placeholder=\"Enter city name\")\n",
    "radius_slider = IntSlider(value=200, min=50, max=1000, step=10, description=\"Radius (km):\")\n",
    "search_btn = Button(description=\"Find Nearby Cities\")\n",
    "output = Output()\n",
    "\n",
    "def on_search_clicked(b):\n",
    "    with output:\n",
    "        output.clear_output()\n",
    "        city_name = city_input.value.strip()\n",
    "        radius = radius_slider.value\n",
    "        if not city_name:\n",
    "            print(\"Please enter a city name.\")\n",
    "            return\n",
    "        city_coords = geocode_city(city_name)\n",
    "        print(f\"Coordinates of {city_name}: {city_coords}\") \n",
    "        if city_coords is None:\n",
    "            print(f\"City '{city_name}' not found.\")\n",
    "            return\n",
    "        nearby = find_nearby_cities(city_coords, big_cities, radius)\n",
    "        if not nearby:\n",
    "            print(\"No big cities found within the specified radius.\")\n",
    "        show_map(city_name, city_coords, nearby)\n",
    "\n",
    "search_btn.on_click(on_search_clicked)\n",
    "\n",
    "display(VBox([city_input, radius_slider, search_btn, output]))"
   ]
  }
 ],
 "metadata": {
  "kernelspec": {
   "display_name": ".venv",
   "language": "python",
   "name": "python3"
  },
  "language_info": {
   "codemirror_mode": {
    "name": "ipython",
    "version": 3
   },
   "file_extension": ".py",
   "mimetype": "text/x-python",
   "name": "python",
   "nbconvert_exporter": "python",
   "pygments_lexer": "ipython3",
   "version": "3.12.3"
  }
 },
 "nbformat": 4,
 "nbformat_minor": 5
}
